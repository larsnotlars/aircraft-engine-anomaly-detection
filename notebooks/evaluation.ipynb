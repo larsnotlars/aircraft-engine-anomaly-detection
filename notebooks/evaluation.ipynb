{
 "cells": [
  {
   "cell_type": "markdown",
   "id": "06ed05e5",
   "metadata": {},
   "source": [
    "## Evaluate models"
   ]
  },
  {
   "cell_type": "markdown",
   "id": "2d96713f",
   "metadata": {},
   "source": [
    "### Owlvit"
   ]
  },
  {
   "cell_type": "code",
   "execution_count": 1,
   "id": "d252383f",
   "metadata": {},
   "outputs": [],
   "source": [
    "%load_ext autoreload\n",
    "%autoreload 2"
   ]
  },
  {
   "cell_type": "code",
   "execution_count": 31,
   "id": "ba85529a",
   "metadata": {},
   "outputs": [],
   "source": [
    "from aircraft_anomaly_detection.models.owlvit import OwlViT\n",
    "from aircraft_anomaly_detection.interfaces import Annotation"
   ]
  },
  {
   "cell_type": "code",
   "execution_count": 32,
   "id": "7b0f2026",
   "metadata": {},
   "outputs": [],
   "source": [
    "\n",
    "pred_anns = []\n",
    "grd_anns = []\n",
    "\n",
    "for i in range(1, 12):\n",
    "    # image, label, meta = turbine_ad[i]\n",
    "    image_path = f\"../data/LTAA-FLUX-Small-test-dataset-generated/Generated/Flux_{i}.jpg\"\n",
    "    # image_path = \"../data/no_defect/detail_jet-engine-part.jpg\"\n",
    "    texts = [\"a clean, undamaged metal surface\", \"a close-up image of a metal scratch\"]\n",
    "\n",
    "    owlvit = OwlViT()\n",
    "    ann = owlvit.predict(image_input=image_path, text_prompts=texts, undamaged_idxes=[0], top_k=2)\n",
    "\n",
    "    pred_anns.append(ann)\n",
    "    # All damaged\n",
    "    grd_anns.append(\n",
    "        Annotation(\n",
    "            damaged=True,\n",
    "        )\n",
    "    )"
   ]
  },
  {
   "cell_type": "code",
   "execution_count": 33,
   "id": "a46a959f",
   "metadata": {},
   "outputs": [
    {
     "data": {
      "text/plain": [
       "{'accuracy': 1.0, 'f1_score': 1.0}"
      ]
     },
     "execution_count": 33,
     "metadata": {},
     "output_type": "execute_result"
    }
   ],
   "source": [
    "from aircraft_anomaly_detection.eval.evaluator import Evaluator\n",
    "\n",
    "evaluator = Evaluator(pred_anns, grd_anns)\n",
    "evaluator.eval()"
   ]
  },
  {
   "cell_type": "code",
   "execution_count": 34,
   "id": "596727df",
   "metadata": {},
   "outputs": [
    {
     "data": {
      "image/png": "[encoded data removed]",
      "text/plain": [
       "<Figure size 640x480 with 2 Axes>"
      ]
     },
     "metadata": {},
     "output_type": "display_data"
    }
   ],
   "source": [
    "evaluator.plot_confusion_matrix()"
   ]
  },
  {
   "cell_type": "markdown",
   "id": "acffd731",
   "metadata": {},
   "source": [
    "### FasterRCNN"
   ]
  },
  {
   "cell_type": "code",
   "execution_count": 35,
   "id": "4d724f64",
   "metadata": {},
   "outputs": [],
   "source": [
    "from aircraft_anomaly_detection.models.faster_rcnn import FasterRCNN"
   ]
  },
  {
   "cell_type": "code",
   "execution_count": 46,
   "id": "89642977",
   "metadata": {},
   "outputs": [
    {
     "name": "stderr",
     "output_type": "stream",
     "text": [
      "c:\\Users\\ronan\\miniconda3\\envs\\cv\\lib\\site-packages\\torchvision\\models\\_utils.py:208: UserWarning: The parameter 'pretrained' is deprecated since 0.13 and may be removed in the future, please use 'weights' instead.\n",
      "  warnings.warn(\n",
      "c:\\Users\\ronan\\miniconda3\\envs\\cv\\lib\\site-packages\\torchvision\\models\\_utils.py:223: UserWarning: Arguments other than a weight enum or `None` for 'weights' are deprecated since 0.13 and may be removed in the future. The current behavior is equivalent to passing `weights=None`.\n",
      "  warnings.warn(msg)\n"
     ]
    },
    {
     "name": "stdout",
     "output_type": "stream",
     "text": [
      "Processed 160 images.\n"
     ]
    }
   ],
   "source": [
    "from pathlib import Path\n",
    "\n",
    "# 1) Prepare\n",
    "MODEL_PATH = \"../data/weights/fasterrcnn_scratch_detector.pth\"\n",
    "detector   = FasterRCNN(model_path=MODEL_PATH)\n",
    "\n",
    "root_dir   = Path(\"../data/synthetic_anomaly_dataset\")\n",
    "pred_anns  = []\n",
    "grd_anns   = []\n",
    "\n",
    "# 2) Walk each scenario → scratch & normal\n",
    "for scenario_dir in root_dir.iterdir():\n",
    "    if not scenario_dir.is_dir():\n",
    "        continue\n",
    "\n",
    "    for label in (\"scratched\", \"normal\"):\n",
    "        damaged_flag = (label == \"scratched\")\n",
    "        folder = scenario_dir / label\n",
    "        if not folder.exists():\n",
    "            continue\n",
    "\n",
    "        # 3) Loop images\n",
    "        for img_file in folder.iterdir():\n",
    "            if img_file.suffix.lower() not in (\".jpg\", \".jpeg\", \".png\"):\n",
    "                continue\n",
    "\n",
    "            # predict\n",
    "            ann = detector.predict(\n",
    "                image_input=str(img_file),\n",
    "                threshold=0.5\n",
    "            )\n",
    "            pred_anns.append(ann)\n",
    "\n",
    "            # ground-truth only needs damaged flag for your use-case\n",
    "            grd_anns.append(\n",
    "                Annotation(damaged=damaged_flag)\n",
    "            )\n",
    "\n",
    "# Now pred_anns[i] corresponds to grd_anns[i]\n",
    "print(f\"Processed {len(pred_anns)} images.\")\n"
   ]
  },
  {
   "cell_type": "code",
   "execution_count": 47,
   "id": "c5354c57",
   "metadata": {},
   "outputs": [
    {
     "data": {
      "text/plain": [
       "{'accuracy': 0.71875, 'f1_score': 0.7428571428571429}"
      ]
     },
     "execution_count": 47,
     "metadata": {},
     "output_type": "execute_result"
    }
   ],
   "source": [
    "from aircraft_anomaly_detection.eval.evaluator import Evaluator\n",
    "\n",
    "evaluator = Evaluator(pred_anns, grd_anns)\n",
    "evaluator.eval()"
   ]
  },
  {
   "cell_type": "code",
   "execution_count": 48,
   "id": "97665931",
   "metadata": {},
   "outputs": [
    {
     "data": {
      "image/png": "[encoded data removed]",
      "text/plain": [
       "<Figure size 640x480 with 2 Axes>"
      ]
     },
     "metadata": {},
     "output_type": "display_data"
    }
   ],
   "source": [
    "evaluator.plot_confusion_matrix()"
   ]
  },
  {
   "cell_type": "markdown",
   "id": "2fc30865",
   "metadata": {},
   "source": [
    "### Clip"
   ]
  },
  {
   "cell_type": "code",
   "execution_count": 1,
   "id": "d16005a7",
   "metadata": {},
   "outputs": [],
   "source": [
    "from aircraft_anomaly_detection.models.clip_predictor import CLIP\n",
    "\n",
    "predictor = CLIP(class_names=[\"damaged\", \"undamaged\"], damaged_idxes=[0])\n",
    "\n",
    "# Predict all images in a folder\n",
    "\n",
    "anns = predictor.predict(\"../data/LTAA-FLUX-Small-test-dataset-generated/Generated/\")"
   ]
  },
  {
   "cell_type": "code",
   "execution_count": 4,
   "id": "da8216bd",
   "metadata": {},
   "outputs": [
    {
     "data": {
      "image/png": "[encoded data removed]",
      "text/plain": [
       "<Figure size 640x480 with 2 Axes>"
      ]
     },
     "metadata": {},
     "output_type": "display_data"
    }
   ],
   "source": [
    "from aircraft_anomaly_detection.eval.evaluator import Evaluator\n",
    "\n",
    "evaluator = Evaluator(anns, grd_anns)\n",
    "evaluator.eval()\n",
    "evaluator.plot_confusion_matrix()"
   ]
  },
  {
   "cell_type": "markdown",
   "id": "17722982",
   "metadata": {},
   "source": [
    "Now lets investigate the MVTec dataset."
   ]
  },
  {
   "cell_type": "code",
   "execution_count": 4,
   "id": "606b60e1",
   "metadata": {},
   "outputs": [
    {
     "name": "stdout",
     "output_type": "stream",
     "text": [
      "Processing already extracted folder: /home/lars/Documents/Uni/ETH/S2/DSL/aircraft-engine-anomaly-detection/data/mvtech/capsule\n",
      "Processing already extracted folder: /home/lars/Documents/Uni/ETH/S2/DSL/aircraft-engine-anomaly-detection/data/mvtech/transistor\n",
      "Processing already extracted folder: /home/lars/Documents/Uni/ETH/S2/DSL/aircraft-engine-anomaly-detection/data/mvtech/carpet\n",
      "Processing already extracted folder: /home/lars/Documents/Uni/ETH/S2/DSL/aircraft-engine-anomaly-detection/data/mvtech/grid\n",
      "Processing already extracted folder: /home/lars/Documents/Uni/ETH/S2/DSL/aircraft-engine-anomaly-detection/data/mvtech/zipper\n",
      "Processing already extracted folder: /home/lars/Documents/Uni/ETH/S2/DSL/aircraft-engine-anomaly-detection/data/mvtech/toothbrush\n",
      "Processing already extracted folder: /home/lars/Documents/Uni/ETH/S2/DSL/aircraft-engine-anomaly-detection/data/mvtech/pill\n",
      "Processing already extracted folder: /home/lars/Documents/Uni/ETH/S2/DSL/aircraft-engine-anomaly-detection/data/mvtech/hazelnut\n",
      "Processing already extracted folder: /home/lars/Documents/Uni/ETH/S2/DSL/aircraft-engine-anomaly-detection/data/mvtech/screw\n",
      "Processing already extracted folder: /home/lars/Documents/Uni/ETH/S2/DSL/aircraft-engine-anomaly-detection/data/mvtech/leather\n",
      "Processing already extracted folder: /home/lars/Documents/Uni/ETH/S2/DSL/aircraft-engine-anomaly-detection/data/mvtech/tile\n",
      "Processing already extracted folder: /home/lars/Documents/Uni/ETH/S2/DSL/aircraft-engine-anomaly-detection/data/mvtech/wood\n",
      "Processing already extracted folder: /home/lars/Documents/Uni/ETH/S2/DSL/aircraft-engine-anomaly-detection/data/mvtech/bottle\n",
      "Processing already extracted folder: /home/lars/Documents/Uni/ETH/S2/DSL/aircraft-engine-anomaly-detection/data/mvtech/metal_nut\n",
      "Processing already extracted folder: /home/lars/Documents/Uni/ETH/S2/DSL/aircraft-engine-anomaly-detection/data/mvtech/cable\n",
      "Loaded 5354 files from mvtech dataset.\n"
     ]
    }
   ],
   "source": [
    "from aircraft_anomaly_detection.dataloader import AnomalyDataset\n",
    "\n",
    "mvtec = AnomalyDataset(\"mvtech\")\n",
    "\n",
    "test = mvtec.filter_by(lambda fp, meta, label: meta.split == \"test\")\n"
   ]
  },
  {
   "cell_type": "code",
   "execution_count": 4,
   "id": "d6df3e0f",
   "metadata": {},
   "outputs": [
    {
     "name": "stdout",
     "output_type": "stream",
     "text": [
      "(<PIL.Image.Image image mode=RGB size=1000x1000 at 0x7240479C3B50>, 1, Metadata(component='capsule', condition='crack', ground_truth=PosixPath('/home/lars/Documents/Uni/ETH/S2/DSL/aircraft-engine-anomaly-detection/data/mvtech/capsule/ground_truth/crack/000_mask.png'), image_path=PosixPath('/home/lars/Documents/Uni/ETH/S2/DSL/aircraft-engine-anomaly-detection/data/mvtech/capsule/test/crack/000.png'), description='MVTech extracted_folder (test)', split='test'))\n"
     ]
    }
   ],
   "source": [
    "print(test[0])"
   ]
  },
  {
   "cell_type": "markdown",
   "id": "25c7b612",
   "metadata": {},
   "source": [
    "Now let us create the ground truth annotations for this.\n"
   ]
  },
  {
   "cell_type": "code",
   "execution_count": 11,
   "id": "0caca7cd",
   "metadata": {},
   "outputs": [],
   "source": [
    "from PIL import Image\n",
    "import numpy as np\n",
    "\n",
    "\n",
    "def png_to_mask(png_path: str) -> np.ndarray:\n",
    "    \"\"\"\n",
    "    Convert a binary mask PNG image to a NumPy array.\n",
    "\n",
    "    Args:\n",
    "        png_path (str): Path to the PNG image.\n",
    "\n",
    "    Returns:\n",
    "        np.ndarray: Binary mask (1 where white, 0 where black).\n",
    "    \"\"\"\n",
    "    image = Image.open(png_path).convert(\"L\")  # Convert to grayscale\n",
    "    mask = np.array(image)\n",
    "    binary_mask = (mask > 127).astype(np.uint8)  # Threshold to binary\n",
    "    return binary_mask"
   ]
  },
  {
   "cell_type": "code",
   "execution_count": 12,
   "id": "6816f62e",
   "metadata": {},
   "outputs": [
    {
     "data": {
      "application/vnd.jupyter.widget-view+json": {
       "model_id": "9a9f96bbd56c41c08fd5da21d2facdf0",
       "version_major": 2,
       "version_minor": 0
      },
      "text/plain": [
       "Processing:   0%|          | 0/1725 [00:00<?, ?image/s]"
      ]
     },
     "metadata": {},
     "output_type": "display_data"
    }
   ],
   "source": [
    "from tqdm.notebook import tqdm \n",
    "\n",
    "pred_anns = []\n",
    "grd_anns = []\n",
    "\n",
    "for i in tqdm(range(len(test.data)), desc=\"Processing\", unit=\"image\"):\n",
    "    image, label, meta = test[i]\n",
    "\n",
    "    texts = [meta.condition]\n",
    "\n",
    "    owlvit = OwlViT()\n",
    "    ann = owlvit.predict(\n",
    "        image_input=image, text_prompts=texts, undamaged_idxes=[], top_k=2\n",
    "    )\n",
    "    if ann.bboxes == []:\n",
    "        continue\n",
    "    \n",
    "    pred_anns.append(ann)\n",
    "\n",
    "    gt_path = meta.ground_truth\n",
    "    #will be a png but convert it to numpy array\n",
    "\n",
    "    if label == 0:\n",
    "        grd_anns.append(\n",
    "            Annotation(\n",
    "                damaged=False,\n",
    "                mask=png_to_mask(gt_path),\n",
    "            )\n",
    "        )\n",
    "    else:\n",
    "        grd_anns.append(\n",
    "            Annotation(\n",
    "                damaged=True,\n",
    "                mask=png_to_mask(gt_path),\n",
    "            )\n",
    "        )   \n",
    "    break"
   ]
  },
  {
   "cell_type": "code",
   "execution_count": 15,
   "id": "7e0a9ee0",
   "metadata": {},
   "outputs": [
    {
     "data": {
      "text/plain": [
       "Annotation(image=<PIL.Image.Image image mode=RGB size=1000x1000 at 0x7B63459385B0>, damaged=True, bboxes=[[858, 522, 912, 600]], scores=[0.015888644382357597], bboxes_labels=['crack'], mask=array([[0, 0, 0, ..., 0, 0, 0],\n",
       "       [0, 0, 0, ..., 0, 0, 0],\n",
       "       [0, 0, 0, ..., 0, 0, 0],\n",
       "       ...,\n",
       "       [0, 0, 0, ..., 0, 0, 0],\n",
       "       [0, 0, 0, ..., 0, 0, 0],\n",
       "       [0, 0, 0, ..., 0, 0, 0]], shape=(1000, 1000), dtype=uint8))"
      ]
     },
     "execution_count": 15,
     "metadata": {},
     "output_type": "execute_result"
    }
   ],
   "source": [
    "pred_anns[0]"
   ]
  },
  {
   "cell_type": "code",
   "execution_count": 16,
   "id": "27733747",
   "metadata": {},
   "outputs": [
    {
     "data": {
      "text/plain": [
       "Annotation(image=None, damaged=True, bboxes=[], scores=[], bboxes_labels=[], mask=array([[0, 0, 0, ..., 0, 0, 0],\n",
       "       [0, 0, 0, ..., 0, 0, 0],\n",
       "       [0, 0, 0, ..., 0, 0, 0],\n",
       "       ...,\n",
       "       [0, 0, 0, ..., 0, 0, 0],\n",
       "       [0, 0, 0, ..., 0, 0, 0],\n",
       "       [0, 0, 0, ..., 0, 0, 0]], shape=(1000, 1000), dtype=uint8))"
      ]
     },
     "execution_count": 16,
     "metadata": {},
     "output_type": "execute_result"
    }
   ],
   "source": [
    "grd_anns[0]"
   ]
  },
  {
   "cell_type": "code",
   "execution_count": 17,
   "id": "00d6a56b",
   "metadata": {},
   "outputs": [
    {
     "data": {
      "text/plain": [
       "{'accuracy': 1.0, 'f1_score': 1.0, 'IoU': np.float64(0.49908864954432475)}"
      ]
     },
     "execution_count": 17,
     "metadata": {},
     "output_type": "execute_result"
    }
   ],
   "source": [
    "from aircraft_anomaly_detection.eval.evaluator import Evaluator\n",
    "\n",
    "evaluator = Evaluator(pred_anns, grd_anns)\n",
    "evaluator.eval()"
   ]
  },
  {
   "cell_type": "code",
   "execution_count": 18,
   "id": "e95b53c7",
   "metadata": {},
   "outputs": [
    {
     "data": {
      "image/png": "[encoded data removed]",
      "text/plain": [
       "<Figure size 600x600 with 1 Axes>"
      ]
     },
     "metadata": {},
     "output_type": "display_data"
    }
   ],
   "source": [
    "import numpy as np\n",
    "import matplotlib.pyplot as plt\n",
    "\n",
    "\n",
    "def visualize_mask_overlap(\n",
    "    mask1: np.ndarray, mask2: np.ndarray, title: str = \"Mask Overlap\"\n",
    "):\n",
    "    \"\"\"\n",
    "    Visualize two binary masks with overlap.\n",
    "\n",
    "    Args:\n",
    "        mask1 (np.ndarray): First binary mask (0 or 1).\n",
    "        mask2 (np.ndarray): Second binary mask (0 or 1).\n",
    "        title (str): Title of the plot.\n",
    "    \"\"\"\n",
    "    # Create RGB image\n",
    "    height, width = mask1.shape\n",
    "    color_mask = np.zeros((height, width, 3), dtype=np.uint8)\n",
    "\n",
    "    # Assign colors\n",
    "    color_mask[mask1 == 1] = [255, 0, 0]  # Red\n",
    "    color_mask[mask2 == 1] = [0, 255, 0]  # Green\n",
    "    color_mask[(mask1 == 1) & (mask2 == 1)] = [255, 255, 0]  # Yellow for overlap\n",
    "\n",
    "    plt.figure(figsize=(6, 6))\n",
    "    plt.imshow(color_mask)\n",
    "    plt.title(title)\n",
    "    plt.axis(\"off\")\n",
    "    plt.show()\n",
    "\n",
    "visualize_mask_overlap(\n",
    "    grd_anns[0].mask, pred_anns[0].mask, title=\"Ground Truth vs. Predicted Mask\"\n",
    ")"
   ]
  },
  {
   "cell_type": "code",
   "execution_count": 7,
   "id": "32b9e18f",
   "metadata": {},
   "outputs": [],
   "source": [
    "#check if damaged is true for any\n",
    "for i in range(len(pred_anns)):\n",
    "    if pred_anns[i].damaged:\n",
    "        print(f\"Image {i} is damaged\")"
   ]
  },
  {
   "cell_type": "code",
   "execution_count": 13,
   "id": "a90bdb5d",
   "metadata": {},
   "outputs": [
    {
     "name": "stdout",
     "output_type": "stream",
     "text": [
      "Predictions: 1\n"
     ]
    }
   ],
   "source": [
    "print(f\"Predictions: {len(pred_anns)}\")"
   ]
  },
  {
   "cell_type": "markdown",
   "id": "c18123f9",
   "metadata": {},
   "source": [
    "It is worth noting that OWLViT sees to be really bad at anomaly detection on MVTeC even if it is looking for the "
   ]
  }
 ],
 "metadata": {
  "kernelspec": {
   "display_name": "Python (myenv)",
   "language": "python",
   "name": "myenv"
  },
  "language_info": {
   "codemirror_mode": {
    "name": "ipython",
    "version": 3
   },
   "file_extension": ".py",
   "mimetype": "text/x-python",
   "name": "python",
   "nbconvert_exporter": "python",
   "pygments_lexer": "ipython3",
   "version": "3.10.16"
  }
 },
 "nbformat": 4,
 "nbformat_minor": 5
}
