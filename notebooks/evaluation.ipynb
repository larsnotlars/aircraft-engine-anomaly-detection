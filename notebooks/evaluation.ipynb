{
 "cells": [
  {
   "cell_type": "markdown",
   "id": "06ed05e5",
   "metadata": {},
   "source": [
    "## Evaluate models"
   ]
  },
  {
   "cell_type": "markdown",
   "id": "2d96713f",
   "metadata": {},
   "source": [
    "### Owlvit"
   ]
  },
  {
   "cell_type": "code",
   "execution_count": 1,
   "id": "d252383f",
   "metadata": {},
   "outputs": [],
   "source": [
    "%load_ext autoreload\n",
    "%autoreload 2"
   ]
  },
  {
   "cell_type": "code",
   "execution_count": 2,
   "id": "ba85529a",
   "metadata": {},
   "outputs": [],
   "source": [
    "from aircraft_anomaly_detection.models.owlvit import OwlViT\n",
    "from aircraft_anomaly_detection.interfaces import Annotation"
   ]
  },
  {
   "cell_type": "code",
   "execution_count": null,
   "id": "7b0f2026",
   "metadata": {},
   "outputs": [
    {
     "name": "stderr",
     "output_type": "stream",
     "text": [
      "/home/lars/Documents/Uni/ETH/S2/DSL/aircraft-engine-anomaly-detection/.venv/lib/python3.10/site-packages/tqdm/auto.py:21: TqdmWarning: IProgress not found. Please update jupyter and ipywidgets. See https://ipywidgets.readthedocs.io/en/stable/user_install.html\n",
      "  from .autonotebook import tqdm as notebook_tqdm\n"
     ]
    },
    {
     "ename": "FileNotFoundError",
     "evalue": "[Errno 2] No such file or directory: '../data/LTAA-FLUX-Small-test-dataset-generated/Generated/Flux_1.jpg'",
     "output_type": "error",
     "traceback": [
      "\u001b[0;31m---------------------------------------------------------------------------\u001b[0m",
      "\u001b[0;31mFileNotFoundError\u001b[0m                         Traceback (most recent call last)",
      "Cell \u001b[0;32mIn[2], line 14\u001b[0m\n\u001b[1;32m     11\u001b[0m texts \u001b[38;5;241m=\u001b[39m [\u001b[38;5;124m\"\u001b[39m\u001b[38;5;124ma clean, undamaged metal surface\u001b[39m\u001b[38;5;124m\"\u001b[39m, \u001b[38;5;124m\"\u001b[39m\u001b[38;5;124ma close-up image of a metal scratch\u001b[39m\u001b[38;5;124m\"\u001b[39m]\n\u001b[1;32m     13\u001b[0m owlvit \u001b[38;5;241m=\u001b[39m OwlViT()\n\u001b[0;32m---> 14\u001b[0m ann \u001b[38;5;241m=\u001b[39m \u001b[43mowlvit\u001b[49m\u001b[38;5;241;43m.\u001b[39;49m\u001b[43mpredict\u001b[49m\u001b[43m(\u001b[49m\u001b[43mimage_input\u001b[49m\u001b[38;5;241;43m=\u001b[39;49m\u001b[43mimage_path\u001b[49m\u001b[43m,\u001b[49m\u001b[43m \u001b[49m\u001b[43mtext_prompts\u001b[49m\u001b[38;5;241;43m=\u001b[39;49m\u001b[43mtexts\u001b[49m\u001b[43m,\u001b[49m\u001b[43m \u001b[49m\u001b[43mundamaged_idxes\u001b[49m\u001b[38;5;241;43m=\u001b[39;49m\u001b[43m[\u001b[49m\u001b[38;5;241;43m0\u001b[39;49m\u001b[43m]\u001b[49m\u001b[43m,\u001b[49m\u001b[43m \u001b[49m\u001b[43mtop_k\u001b[49m\u001b[38;5;241;43m=\u001b[39;49m\u001b[38;5;241;43m2\u001b[39;49m\u001b[43m)\u001b[49m\n\u001b[1;32m     16\u001b[0m pred_anns\u001b[38;5;241m.\u001b[39mappend(ann)\n\u001b[1;32m     17\u001b[0m \u001b[38;5;66;03m# All damaged\u001b[39;00m\n",
      "File \u001b[0;32m~/Documents/Uni/ETH/S2/DSL/aircraft-engine-anomaly-detection/src/aircraft_anomaly_detection/models/owlvit.py:64\u001b[0m, in \u001b[0;36mOwlViT.predict\u001b[0;34m(self, image_input, text_prompts, undamaged_idxes, threshold, top_k)\u001b[0m\n\u001b[1;32m     34\u001b[0m \u001b[38;5;250m\u001b[39m\u001b[38;5;124;03m\"\"\"\u001b[39;00m\n\u001b[1;32m     35\u001b[0m \u001b[38;5;124;03mRun OwlViT on an image and return filtered boxes, scores, and labels.\u001b[39;00m\n\u001b[1;32m     36\u001b[0m \n\u001b[0;32m   (...)\u001b[0m\n\u001b[1;32m     49\u001b[0m \u001b[38;5;124;03m        - labels (List[str]): Detected labels for each box.\u001b[39;00m\n\u001b[1;32m     50\u001b[0m \u001b[38;5;124;03m\"\"\"\u001b[39;00m\n\u001b[1;32m     51\u001b[0m \u001b[38;5;250m\u001b[39m\u001b[38;5;124;03m\"\"\"\u001b[39;00m\n\u001b[1;32m     52\u001b[0m \u001b[38;5;124;03mRun prediction on an image and return results as an Annotation.\u001b[39;00m\n\u001b[1;32m     53\u001b[0m \n\u001b[0;32m   (...)\u001b[0m\n\u001b[1;32m     62\u001b[0m \u001b[38;5;124;03m    Annotation: label=True with bboxes, scores, bboxes_labels if defects found; otherwise label=False and empty lists.\u001b[39;00m\n\u001b[1;32m     63\u001b[0m \u001b[38;5;124;03m\"\"\"\u001b[39;00m\n\u001b[0;32m---> 64\u001b[0m image \u001b[38;5;241m=\u001b[39m \u001b[38;5;28;43mself\u001b[39;49m\u001b[38;5;241;43m.\u001b[39;49m\u001b[43m_load_image\u001b[49m\u001b[43m(\u001b[49m\u001b[43mimage_input\u001b[49m\u001b[43m)\u001b[49m\n\u001b[1;32m     65\u001b[0m inputs \u001b[38;5;241m=\u001b[39m \u001b[38;5;28mself\u001b[39m\u001b[38;5;241m.\u001b[39mprocessor(text\u001b[38;5;241m=\u001b[39mtext_prompts, images\u001b[38;5;241m=\u001b[39mimage, return_tensors\u001b[38;5;241m=\u001b[39m\u001b[38;5;124m\"\u001b[39m\u001b[38;5;124mpt\u001b[39m\u001b[38;5;124m\"\u001b[39m)\u001b[38;5;241m.\u001b[39mto(\u001b[38;5;28mself\u001b[39m\u001b[38;5;241m.\u001b[39mdevice)\n\u001b[1;32m     66\u001b[0m outputs \u001b[38;5;241m=\u001b[39m \u001b[38;5;28mself\u001b[39m\u001b[38;5;241m.\u001b[39mmodel(\u001b[38;5;241m*\u001b[39m\u001b[38;5;241m*\u001b[39minputs)\n",
      "File \u001b[0;32m~/Documents/Uni/ETH/S2/DSL/aircraft-engine-anomaly-detection/src/aircraft_anomaly_detection/models/owlvit.py:149\u001b[0m, in \u001b[0;36mOwlViT._load_image\u001b[0;34m(self, image_input)\u001b[0m\n\u001b[1;32m    139\u001b[0m \u001b[38;5;250m\u001b[39m\u001b[38;5;124;03m\"\"\"\u001b[39;00m\n\u001b[1;32m    140\u001b[0m \u001b[38;5;124;03mLoad an image from a file path, a numpy array, or a PIL image, and return a PIL Image in RGB.\u001b[39;00m\n\u001b[1;32m    141\u001b[0m \n\u001b[0;32m   (...)\u001b[0m\n\u001b[1;32m    146\u001b[0m \u001b[38;5;124;03m    Image.Image: Loaded image in RGB mode.\u001b[39;00m\n\u001b[1;32m    147\u001b[0m \u001b[38;5;124;03m\"\"\"\u001b[39;00m\n\u001b[1;32m    148\u001b[0m \u001b[38;5;28;01mif\u001b[39;00m \u001b[38;5;28misinstance\u001b[39m(image_input, \u001b[38;5;28mstr\u001b[39m):\n\u001b[0;32m--> 149\u001b[0m     image \u001b[38;5;241m=\u001b[39m \u001b[43mImage\u001b[49m\u001b[38;5;241;43m.\u001b[39;49m\u001b[43mopen\u001b[49m\u001b[43m(\u001b[49m\u001b[43mimage_input\u001b[49m\u001b[43m)\u001b[49m\u001b[38;5;241m.\u001b[39mconvert(\u001b[38;5;124m\"\u001b[39m\u001b[38;5;124mRGB\u001b[39m\u001b[38;5;124m\"\u001b[39m)\n\u001b[1;32m    150\u001b[0m \u001b[38;5;28;01melif\u001b[39;00m \u001b[38;5;28misinstance\u001b[39m(image_input, Image\u001b[38;5;241m.\u001b[39mImage):\n\u001b[1;32m    151\u001b[0m     image \u001b[38;5;241m=\u001b[39m image_input\u001b[38;5;241m.\u001b[39mconvert(\u001b[38;5;124m\"\u001b[39m\u001b[38;5;124mRGB\u001b[39m\u001b[38;5;124m\"\u001b[39m)\n",
      "File \u001b[0;32m~/Documents/Uni/ETH/S2/DSL/aircraft-engine-anomaly-detection/.venv/lib/python3.10/site-packages/PIL/Image.py:3465\u001b[0m, in \u001b[0;36mopen\u001b[0;34m(fp, mode, formats)\u001b[0m\n\u001b[1;32m   3462\u001b[0m     filename \u001b[38;5;241m=\u001b[39m os\u001b[38;5;241m.\u001b[39mfspath(fp)\n\u001b[1;32m   3464\u001b[0m \u001b[38;5;28;01mif\u001b[39;00m filename:\n\u001b[0;32m-> 3465\u001b[0m     fp \u001b[38;5;241m=\u001b[39m \u001b[43mbuiltins\u001b[49m\u001b[38;5;241;43m.\u001b[39;49m\u001b[43mopen\u001b[49m\u001b[43m(\u001b[49m\u001b[43mfilename\u001b[49m\u001b[43m,\u001b[49m\u001b[43m \u001b[49m\u001b[38;5;124;43m\"\u001b[39;49m\u001b[38;5;124;43mrb\u001b[39;49m\u001b[38;5;124;43m\"\u001b[39;49m\u001b[43m)\u001b[49m\n\u001b[1;32m   3466\u001b[0m     exclusive_fp \u001b[38;5;241m=\u001b[39m \u001b[38;5;28;01mTrue\u001b[39;00m\n\u001b[1;32m   3467\u001b[0m \u001b[38;5;28;01melse\u001b[39;00m:\n",
      "\u001b[0;31mFileNotFoundError\u001b[0m: [Errno 2] No such file or directory: '../data/LTAA-FLUX-Small-test-dataset-generated/Generated/Flux_1.jpg'"
     ]
    }
   ],
   "source": [
    "\n",
    "pred_anns = []\n",
    "grd_anns = []\n",
    "\n",
    "for i in range(1, 12):\n",
    "    # image, label, meta = turbine_ad[i]\n",
    "    image_path = f\"../data/LTAA-FLUX-Small-test-dataset-generated/Generated/Flux_{i}.jpg\"\n",
    "    # image_path = \"../data/no_defect/detail_jet-engine-part.jpg\"\n",
    "    texts = [\"a clean, undamaged metal surface\", \"a close-up image of a metal scratch\"]\n",
    "\n",
    "    owlvit = OwlViT()\n",
    "    ann = owlvit.predict(image_input=image_path, text_prompts=texts, undamaged_idxes=[0], top_k=2)\n",
    "\n",
    "    pred_anns.append(ann)\n",
    "    # All damaged\n",
    "    grd_anns.append(\n",
    "        Annotation(\n",
    "            damaged=True,\n",
    "        )\n",
    "    )"
   ]
  },
  {
   "cell_type": "code",
   "execution_count": 2,
   "id": "a46a959f",
   "metadata": {},
   "outputs": [
    {
     "data": {
      "text/plain": [
       "{'accuracy': 1.0, 'f1_score': 1.0}"
      ]
     },
     "execution_count": 2,
     "metadata": {},
     "output_type": "execute_result"
    }
   ],
   "source": [
    "from aircraft_anomaly_detection.eval.evaluator import Evaluator\n",
    "\n",
    "evaluator = Evaluator(pred_anns, grd_anns)\n",
    "evaluator.eval()"
   ]
  },
  {
   "cell_type": "code",
   "execution_count": 3,
   "id": "596727df",
   "metadata": {},
   "outputs": [
    {
     "data": {
      "image/png": "[encoded data removed]",
      "text/plain": [
       "<Figure size 640x480 with 2 Axes>"
      ]
     },
     "metadata": {},
     "output_type": "display_data"
    }
   ],
   "source": [
    "evaluator.plot_confusion_matrix()"
   ]
  },
  {
   "cell_type": "markdown",
   "id": "2fc30865",
   "metadata": {},
   "source": [
    "### Clip"
   ]
  },
  {
   "cell_type": "code",
   "execution_count": 1,
   "id": "d16005a7",
   "metadata": {},
   "outputs": [],
   "source": [
    "from aircraft_anomaly_detection.models.clip_predictor import CLIP\n",
    "\n",
    "predictor = CLIP(class_names=[\"damaged\", \"undamaged\"], damaged_idxes=[0])\n",
    "\n",
    "# Predict all images in a folder\n",
    "\n",
    "anns = predictor.predict(\"../data/LTAA-FLUX-Small-test-dataset-generated/Generated/\")"
   ]
  },
  {
   "cell_type": "code",
   "execution_count": 4,
   "id": "da8216bd",
   "metadata": {},
   "outputs": [
    {
     "data": {
      "image/png": "[encoded data removed]",
      "text/plain": [
       "<Figure size 640x480 with 2 Axes>"
      ]
     },
     "metadata": {},
     "output_type": "display_data"
    }
   ],
   "source": [
    "from aircraft_anomaly_detection.eval.evaluator import Evaluator\n",
    "\n",
    "evaluator = Evaluator(anns, grd_anns)\n",
    "evaluator.eval()\n",
    "evaluator.plot_confusion_matrix()"
   ]
  },
  {
   "cell_type": "markdown",
   "id": "17722982",
   "metadata": {},
   "source": [
    "Now lets investigate the MVTec dataset."
   ]
  },
  {
   "cell_type": "code",
   "execution_count": 4,
   "id": "606b60e1",
   "metadata": {},
   "outputs": [
    {
     "name": "stdout",
     "output_type": "stream",
     "text": [
      "Processing already extracted folder: /home/lars/Documents/Uni/ETH/S2/DSL/aircraft-engine-anomaly-detection/data/mvtech/capsule\n",
      "Processing already extracted folder: /home/lars/Documents/Uni/ETH/S2/DSL/aircraft-engine-anomaly-detection/data/mvtech/transistor\n",
      "Processing already extracted folder: /home/lars/Documents/Uni/ETH/S2/DSL/aircraft-engine-anomaly-detection/data/mvtech/carpet\n",
      "Processing already extracted folder: /home/lars/Documents/Uni/ETH/S2/DSL/aircraft-engine-anomaly-detection/data/mvtech/grid\n",
      "Processing already extracted folder: /home/lars/Documents/Uni/ETH/S2/DSL/aircraft-engine-anomaly-detection/data/mvtech/zipper\n",
      "Processing already extracted folder: /home/lars/Documents/Uni/ETH/S2/DSL/aircraft-engine-anomaly-detection/data/mvtech/toothbrush\n",
      "Processing already extracted folder: /home/lars/Documents/Uni/ETH/S2/DSL/aircraft-engine-anomaly-detection/data/mvtech/pill\n",
      "Processing already extracted folder: /home/lars/Documents/Uni/ETH/S2/DSL/aircraft-engine-anomaly-detection/data/mvtech/hazelnut\n",
      "Processing already extracted folder: /home/lars/Documents/Uni/ETH/S2/DSL/aircraft-engine-anomaly-detection/data/mvtech/screw\n",
      "Processing already extracted folder: /home/lars/Documents/Uni/ETH/S2/DSL/aircraft-engine-anomaly-detection/data/mvtech/leather\n",
      "Processing already extracted folder: /home/lars/Documents/Uni/ETH/S2/DSL/aircraft-engine-anomaly-detection/data/mvtech/tile\n",
      "Processing already extracted folder: /home/lars/Documents/Uni/ETH/S2/DSL/aircraft-engine-anomaly-detection/data/mvtech/wood\n",
      "Processing already extracted folder: /home/lars/Documents/Uni/ETH/S2/DSL/aircraft-engine-anomaly-detection/data/mvtech/bottle\n",
      "Processing already extracted folder: /home/lars/Documents/Uni/ETH/S2/DSL/aircraft-engine-anomaly-detection/data/mvtech/metal_nut\n",
      "Processing already extracted folder: /home/lars/Documents/Uni/ETH/S2/DSL/aircraft-engine-anomaly-detection/data/mvtech/cable\n",
      "Loaded 5354 files from mvtech dataset.\n"
     ]
    }
   ],
   "source": [
    "from aircraft_anomaly_detection.dataloader import AnomalyDataset\n",
    "\n",
    "mvtec = AnomalyDataset(\"mvtech\")\n",
    "\n",
    "test = mvtec.filter_by(lambda fp, meta, label: meta.split == \"test\")\n"
   ]
  },
  {
   "cell_type": "code",
   "execution_count": 4,
   "id": "d6df3e0f",
   "metadata": {},
   "outputs": [
    {
     "name": "stdout",
     "output_type": "stream",
     "text": [
      "(<PIL.Image.Image image mode=RGB size=1000x1000 at 0x7240479C3B50>, 1, Metadata(component='capsule', condition='crack', ground_truth=PosixPath('/home/lars/Documents/Uni/ETH/S2/DSL/aircraft-engine-anomaly-detection/data/mvtech/capsule/ground_truth/crack/000_mask.png'), image_path=PosixPath('/home/lars/Documents/Uni/ETH/S2/DSL/aircraft-engine-anomaly-detection/data/mvtech/capsule/test/crack/000.png'), description='MVTech extracted_folder (test)', split='test'))\n"
     ]
    }
   ],
   "source": [
    "print(test[0])"
   ]
  },
  {
   "cell_type": "markdown",
   "id": "25c7b612",
   "metadata": {},
   "source": [
    "Now let us create the ground truth annotations for this.\n"
   ]
  },
  {
   "cell_type": "code",
   "execution_count": 11,
   "id": "0caca7cd",
   "metadata": {},
   "outputs": [],
   "source": [
    "from PIL import Image\n",
    "import numpy as np\n",
    "\n",
    "\n",
    "def png_to_mask(png_path: str) -> np.ndarray:\n",
    "    \"\"\"\n",
    "    Convert a binary mask PNG image to a NumPy array.\n",
    "\n",
    "    Args:\n",
    "        png_path (str): Path to the PNG image.\n",
    "\n",
    "    Returns:\n",
    "        np.ndarray: Binary mask (1 where white, 0 where black).\n",
    "    \"\"\"\n",
    "    image = Image.open(png_path).convert(\"L\")  # Convert to grayscale\n",
    "    mask = np.array(image)\n",
    "    binary_mask = (mask > 127).astype(np.uint8)  # Threshold to binary\n",
    "    return binary_mask"
   ]
  },
  {
   "cell_type": "code",
   "execution_count": 12,
   "id": "6816f62e",
   "metadata": {},
   "outputs": [
    {
     "data": {
      "application/vnd.jupyter.widget-view+json": {
       "model_id": "9a9f96bbd56c41c08fd5da21d2facdf0",
       "version_major": 2,
       "version_minor": 0
      },
      "text/plain": [
       "Processing:   0%|          | 0/1725 [00:00<?, ?image/s]"
      ]
     },
     "metadata": {},
     "output_type": "display_data"
    }
   ],
   "source": [
    "from tqdm.notebook import tqdm \n",
    "\n",
    "pred_anns = []\n",
    "grd_anns = []\n",
    "\n",
    "for i in tqdm(range(len(test.data)), desc=\"Processing\", unit=\"image\"):\n",
    "    image, label, meta = test[i]\n",
    "\n",
    "    texts = [meta.condition]\n",
    "\n",
    "    owlvit = OwlViT()\n",
    "    ann = owlvit.predict(\n",
    "        image_input=image, text_prompts=texts, undamaged_idxes=[], top_k=2\n",
    "    )\n",
    "    if ann.bboxes == []:\n",
    "        continue\n",
    "    \n",
    "    pred_anns.append(ann)\n",
    "\n",
    "    gt_path = meta.ground_truth\n",
    "    #will be a png but convert it to numpy array\n",
    "\n",
    "    if label == 0:\n",
    "        grd_anns.append(\n",
    "            Annotation(\n",
    "                damaged=False,\n",
    "                mask=png_to_mask(gt_path),\n",
    "            )\n",
    "        )\n",
    "    else:\n",
    "        grd_anns.append(\n",
    "            Annotation(\n",
    "                damaged=True,\n",
    "                mask=png_to_mask(gt_path),\n",
    "            )\n",
    "        )   \n",
    "    break"
   ]
  },
  {
   "cell_type": "code",
   "execution_count": 15,
   "id": "7e0a9ee0",
   "metadata": {},
   "outputs": [
    {
     "data": {
      "text/plain": [
       "Annotation(image=<PIL.Image.Image image mode=RGB size=1000x1000 at 0x7B63459385B0>, damaged=True, bboxes=[[858, 522, 912, 600]], scores=[0.015888644382357597], bboxes_labels=['crack'], mask=array([[0, 0, 0, ..., 0, 0, 0],\n",
       "       [0, 0, 0, ..., 0, 0, 0],\n",
       "       [0, 0, 0, ..., 0, 0, 0],\n",
       "       ...,\n",
       "       [0, 0, 0, ..., 0, 0, 0],\n",
       "       [0, 0, 0, ..., 0, 0, 0],\n",
       "       [0, 0, 0, ..., 0, 0, 0]], shape=(1000, 1000), dtype=uint8))"
      ]
     },
     "execution_count": 15,
     "metadata": {},
     "output_type": "execute_result"
    }
   ],
   "source": [
    "pred_anns[0]"
   ]
  },
  {
   "cell_type": "code",
   "execution_count": 16,
   "id": "27733747",
   "metadata": {},
   "outputs": [
    {
     "data": {
      "text/plain": [
       "Annotation(image=None, damaged=True, bboxes=[], scores=[], bboxes_labels=[], mask=array([[0, 0, 0, ..., 0, 0, 0],\n",
       "       [0, 0, 0, ..., 0, 0, 0],\n",
       "       [0, 0, 0, ..., 0, 0, 0],\n",
       "       ...,\n",
       "       [0, 0, 0, ..., 0, 0, 0],\n",
       "       [0, 0, 0, ..., 0, 0, 0],\n",
       "       [0, 0, 0, ..., 0, 0, 0]], shape=(1000, 1000), dtype=uint8))"
      ]
     },
     "execution_count": 16,
     "metadata": {},
     "output_type": "execute_result"
    }
   ],
   "source": [
    "grd_anns[0]"
   ]
  },
  {
   "cell_type": "code",
   "execution_count": 17,
   "id": "00d6a56b",
   "metadata": {},
   "outputs": [
    {
     "data": {
      "text/plain": [
       "{'accuracy': 1.0, 'f1_score': 1.0, 'IoU': np.float64(0.49908864954432475)}"
      ]
     },
     "execution_count": 17,
     "metadata": {},
     "output_type": "execute_result"
    }
   ],
   "source": [
    "from aircraft_anomaly_detection.eval.evaluator import Evaluator\n",
    "\n",
    "evaluator = Evaluator(pred_anns, grd_anns)\n",
    "evaluator.eval()"
   ]
  },
  {
   "cell_type": "code",
   "execution_count": 18,
   "id": "e95b53c7",
   "metadata": {},
   "outputs": [
    {
     "data": {
      "image/png": "[encoded data removed]",
      "text/plain": [
       "<Figure size 600x600 with 1 Axes>"
      ]
     },
     "metadata": {},
     "output_type": "display_data"
    }
   ],
   "source": [
    "import numpy as np\n",
    "import matplotlib.pyplot as plt\n",
    "\n",
    "\n",
    "def visualize_mask_overlap(\n",
    "    mask1: np.ndarray, mask2: np.ndarray, title: str = \"Mask Overlap\"\n",
    "):\n",
    "    \"\"\"\n",
    "    Visualize two binary masks with overlap.\n",
    "\n",
    "    Args:\n",
    "        mask1 (np.ndarray): First binary mask (0 or 1).\n",
    "        mask2 (np.ndarray): Second binary mask (0 or 1).\n",
    "        title (str): Title of the plot.\n",
    "    \"\"\"\n",
    "    # Create RGB image\n",
    "    height, width = mask1.shape\n",
    "    color_mask = np.zeros((height, width, 3), dtype=np.uint8)\n",
    "\n",
    "    # Assign colors\n",
    "    color_mask[mask1 == 1] = [255, 0, 0]  # Red\n",
    "    color_mask[mask2 == 1] = [0, 255, 0]  # Green\n",
    "    color_mask[(mask1 == 1) & (mask2 == 1)] = [255, 255, 0]  # Yellow for overlap\n",
    "\n",
    "    plt.figure(figsize=(6, 6))\n",
    "    plt.imshow(color_mask)\n",
    "    plt.title(title)\n",
    "    plt.axis(\"off\")\n",
    "    plt.show()\n",
    "\n",
    "visualize_mask_overlap(\n",
    "    grd_anns[0].mask, pred_anns[0].mask, title=\"Ground Truth vs. Predicted Mask\"\n",
    ")"
   ]
  },
  {
   "cell_type": "code",
   "execution_count": 7,
   "id": "32b9e18f",
   "metadata": {},
   "outputs": [],
   "source": [
    "#check if damaged is true for any\n",
    "for i in range(len(pred_anns)):\n",
    "    if pred_anns[i].damaged:\n",
    "        print(f\"Image {i} is damaged\")"
   ]
  },
  {
   "cell_type": "code",
   "execution_count": 13,
   "id": "a90bdb5d",
   "metadata": {},
   "outputs": [
    {
     "name": "stdout",
     "output_type": "stream",
     "text": [
      "Predictions: 1\n"
     ]
    }
   ],
   "source": [
    "print(f\"Predictions: {len(pred_anns)}\")"
   ]
  },
  {
   "cell_type": "markdown",
   "id": "c18123f9",
   "metadata": {},
   "source": [
    "It is worth noting that OWLViT sees to be really bad at anomaly detection on MVTeC even if it is looking for the "
   ]
  }
 ],
 "metadata": {
  "kernelspec": {
   "display_name": "Python (myenv)",
   "language": "python",
   "name": "myenv"
  },
  "language_info": {
   "codemirror_mode": {
    "name": "ipython",
    "version": 3
   },
   "file_extension": ".py",
   "mimetype": "text/x-python",
   "name": "python",
   "nbconvert_exporter": "python",
   "pygments_lexer": "ipython3",
   "version": "3.10.16"
  }
 },
 "nbformat": 4,
 "nbformat_minor": 5
}
