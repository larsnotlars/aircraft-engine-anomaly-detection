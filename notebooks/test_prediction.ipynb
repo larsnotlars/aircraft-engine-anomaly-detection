{
 "cells": [
  {
   "cell_type": "markdown",
   "metadata": {},
   "source": [
    "# Notebook to test model predictions"
   ]
  },
  {
   "cell_type": "code",
   "execution_count": 6,
   "metadata": {},
   "outputs": [
    {
     "name": "stdout",
     "output_type": "stream",
     "text": [
      "{'Flux_1.jpg': [{'label': 'defect', 'confidence': 71.57}, {'label': 'no defect', 'confidence': 28.43}], 'Flux_10.jpg': [{'label': 'defect', 'confidence': 73.26}, {'label': 'no defect', 'confidence': 26.74}], 'Flux_2.jpg': [{'label': 'defect', 'confidence': 82.59}, {'label': 'no defect', 'confidence': 17.41}], 'Flux_3.jpg': [{'label': 'defect', 'confidence': 86.04}, {'label': 'no defect', 'confidence': 13.96}], 'Flux_4.jpg': [{'label': 'defect', 'confidence': 74.4}, {'label': 'no defect', 'confidence': 25.6}], 'Flux_5.jpg': [{'label': 'defect', 'confidence': 84.04}, {'label': 'no defect', 'confidence': 15.96}], 'Flux_6.jpg': [{'label': 'defect', 'confidence': 80.62}, {'label': 'no defect', 'confidence': 19.38}], 'Flux_7.jpg': [{'label': 'defect', 'confidence': 77.52}, {'label': 'no defect', 'confidence': 22.48}], 'Flux_8.jpg': [{'label': 'defect', 'confidence': 87.25}, {'label': 'no defect', 'confidence': 12.75}], 'Flux_9.jpg': [{'label': 'defect', 'confidence': 59.73}, {'label': 'no defect', 'confidence': 40.27}], 'sx6FsVzrxp4vNtSnvjgIf_b9ac1680ae024bcfa330e9063914ab18.jpg': [{'label': 'defect', 'confidence': 82.04}, {'label': 'no defect', 'confidence': 17.96}]}\n"
     ]
    }
   ],
   "source": [
    "from aircraft_anomaly_detection.models.clip_predictor import ClipPredictor\n",
    "\n",
    "predictor = ClipPredictor(class_names=[\"defect\", \"no defect\"])\n",
    "\n",
    "# Predict all images in a folder\n",
    "folder_preds = predictor.predict(\"../data/LTAA-FLUX-Small-test-dataset-generated/Generated/\")\n",
    "print(folder_preds)\n"
   ]
  },
  {
   "cell_type": "code",
   "execution_count": null,
   "metadata": {},
   "outputs": [],
   "source": []
  }
 ],
 "metadata": {
  "kernelspec": {
   "display_name": "cv",
   "language": "python",
   "name": "python3"
  },
  "language_info": {
   "codemirror_mode": {
    "name": "ipython",
    "version": 3
   },
   "file_extension": ".py",
   "mimetype": "text/x-python",
   "name": "python",
   "nbconvert_exporter": "python",
   "pygments_lexer": "ipython3",
   "version": "3.9.21"
  }
 },
 "nbformat": 4,
 "nbformat_minor": 2
}
